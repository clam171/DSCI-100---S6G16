{
 "cells": [
  {
   "attachments": {},
   "cell_type": "markdown",
   "id": "6b58dc92-e96b-4bd5-81d7-88db9b875365",
   "metadata": {},
   "source": [
    "# DSCI 100 Project - Section 6 Group 16 \n",
    "# Minecraft project report \n",
    "## members:\n",
    "\n",
    "|Name|Student Number|\n",
    "|--------|---------|\n",
    "|Clement Cheung|40162752|\n",
    "|Eileen Limneus|81033300|\n",
    "|Min Hyung Yoo|26944660|\n",
    "|Tyler Lee|12253688|\n",
    "\n",
    "\n",
    "### Project Objectives!\n",
    "+ **Broad Question:** (1) What player characteristics and behaviours are most predictive of subscribing to a game-related newsletter, and how do these features differ between various player types?\n",
    "\n",
    "+ **Specific Question:** How does a player's tendency to revisit the PLAICraft server, and their total playtime affect their subscription status to a game-related newsletter?"
   ]
  },
  {
   "cell_type": "code",
   "execution_count": 1,
   "id": "a61ff8f5-db3a-47f0-b2a9-cec722da0f17",
   "metadata": {},
   "outputs": [],
   "source": [
    "# loading the libraries"
   ]
  },
  {
   "cell_type": "markdown",
   "id": "9f981a2b-915b-486c-96e7-40eb0795f914",
   "metadata": {
    "jp-MarkdownHeadingCollapsed": true
   },
   "source": [
    "## Introduction\n",
    "\n",
    "+ relevant background information on the topic enough so that somoneone that is unfamiliar on it can understand the full report.\n",
    "+ clearly state the question you tried to answer with your project\n",
    "+ identify and fully describe the dataset that was used to answer the question"
   ]
  },
  {
   "cell_type": "markdown",
   "id": "13433ef6-26cd-4737-ab86-24701a10e938",
   "metadata": {},
   "source": [
    "## Methods & Results\n",
    "\n",
    "* describe the methods you used to perform your analysis from beginning to end that narrates the analysis code.\n",
    "* your report should include code which:\n",
    "    - loads data \n",
    "    - wrangles and cleans the data to the format necessary for the planned analysis\n",
    "    - performs a summary of the data set that is relevant for exploratory data analysis related to the planned analysis \n",
    "    - creates a visualization of the dataset that is relevant for exploratory data analysis related to the planned analysis\n",
    "    - performs the data analysis\n",
    "    - creates a visualization of the analysis\n",
    " \n",
    "note: all figures should have a figure number and a legend"
   ]
  },
  {
   "cell_type": "markdown",
   "id": "e0c3bee4-14ae-4a2f-9775-878c1b9d88cd",
   "metadata": {},
   "source": [
    "## Discussion\n",
    "\n",
    "* summary of findings\n",
    "* discuss if results were expected\n",
    "* impact of the findings\n",
    "* further questions to ask"
   ]
  },
  {
   "cell_type": "markdown",
   "id": "c5380447-67cd-4d4c-b435-33aba8fac2ef",
   "metadata": {},
   "source": [
    "## References\n",
    "\n",
    "* any format so long as its a consistent citation style"
   ]
  },
  {
   "cell_type": "code",
   "execution_count": null,
   "id": "c0656d64-36c1-42cb-9f9f-9e9faed0e66c",
   "metadata": {},
   "outputs": [],
   "source": []
  }
 ],
 "metadata": {
  "kernelspec": {
   "display_name": "R",
   "language": "R",
   "name": "ir"
  },
  "language_info": {
   "codemirror_mode": "r",
   "file_extension": ".r",
   "mimetype": "text/x-r-source",
   "name": "R",
   "pygments_lexer": "r",
   "version": "4.3.3"
  }
 },
 "nbformat": 4,
 "nbformat_minor": 5
}
