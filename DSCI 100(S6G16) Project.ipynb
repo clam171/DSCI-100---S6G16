{
 "cells": [
  {
   "cell_type": "markdown",
   "id": "6b58dc92-e96b-4bd5-81d7-88db9b875365",
   "metadata": {},
   "source": [
    "# DSCI 100 Project - Section 6 Group 16 \n",
    "## members:\n",
    "\n",
    "|Name|Student Number|\n",
    "|--------|---------|\n",
    "|Clement Cheung|40162752|\n",
    "|Eileen Limneus|81033300|\n",
    "|Min Hyung Yoo|26944660|\n",
    "|Tyler Lee|12253688|\n",
    "\n",
    "## Project question: "
   ]
  },
  {
   "cell_type": "code",
   "execution_count": null,
   "id": "bed31a0d-0f9f-4ba7-86ce-9e7c6f2b35ac",
   "metadata": {},
   "outputs": [],
   "source": []
  }
 ],
 "metadata": {
  "kernelspec": {
   "display_name": "R",
   "language": "R",
   "name": "ir"
  },
  "language_info": {
   "codemirror_mode": "r",
   "file_extension": ".r",
   "mimetype": "text/x-r-source",
   "name": "R",
   "pygments_lexer": "r",
   "version": "4.3.3"
  }
 },
 "nbformat": 4,
 "nbformat_minor": 5
}
